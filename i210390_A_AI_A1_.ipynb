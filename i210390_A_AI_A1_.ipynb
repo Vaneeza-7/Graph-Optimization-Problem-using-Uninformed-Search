{
  "nbformat": 4,
  "nbformat_minor": 0,
  "metadata": {
    "colab": {
      "provenance": []
    },
    "kernelspec": {
      "name": "python3",
      "display_name": "Python 3"
    },
    "language_info": {
      "name": "python"
    }
  },
  "cells": [
    {
      "cell_type": "markdown",
      "source": [
        "## Algorithm Explained\n",
        "- First read file using pandas and store contents in a dictionary.\n",
        "- Second implement a function to find the minimum cost for a single vertex keeping consistency in mind (i.e each child precedes parent nodes).\n",
        "- Third, run the desired search algorithm (bfs, dfs ucs) by passing the initial state space as empty vertices and the costs dictionary.\n",
        "- The search algorithm will call the minimum consistent cost function to calculate the shortest ordering and minimum cost and print cost and path.\n",
        "- Lastly, using the ordering and minimum costs, construct a graph using networkx to visualize the shortest ordering."
      ],
      "metadata": {
        "id": "82alR7CRNvCs"
      }
    },
    {
      "cell_type": "code",
      "execution_count": 3,
      "metadata": {
        "colab": {
          "base_uri": "https://localhost:8080/"
        },
        "id": "V88fpCM0NVg-",
        "outputId": "f7fef8db-4fd5-49de-cadc-dcadc639d298"
      },
      "outputs": [
        {
          "output_type": "stream",
          "name": "stdout",
          "text": [
            "   vertex parent     cost\n",
            "0       1     {}  153.466\n",
            "1       1    {3}   96.093\n",
            "2       1    {4}   97.913\n",
            "3       1    {5}   99.835\n",
            "4       2     {}  141.023\n",
            "5       2    {3}  122.446\n",
            "6       2    {4}  121.576\n",
            "7       2    {5}  123.398\n",
            "8       3     {}  169.482\n",
            "9       3    {1}  112.109\n",
            "10      3    {2}  150.906\n",
            "11      3  {1,2}  107.516\n",
            "12      3    {4}   51.681\n",
            "13      3    {5}   41.775\n",
            "14      4     {}  169.482\n",
            "15      4    {1}  113.929\n",
            "16      4    {2}  150.036\n",
            "17      4  {1,2}  108.982\n",
            "18      4    {3}   51.681\n",
            "19      4    {5}   36.188\n",
            "20      5     {}  169.802\n",
            "21      5    {1}  116.171\n",
            "22      5    {2}  152.178\n",
            "23      5  {1,2}  111.473\n",
            "24      5    {3}   42.096\n",
            "25      5    {4}   36.508\n"
          ]
        }
      ],
      "source": [
        "# reading from a file\n",
        "\n",
        "import pandas as pd\n",
        "import re\n",
        "\n",
        "# Defining the column names\n",
        "column_names = [\"vertex\", \"parent\", \"cost\"]\n",
        "\n",
        "# Inititalizing to collect the rows\n",
        "rows = []\n",
        "\n",
        "# Opening the file\n",
        "with open(\"data0.txt\", \"r\") as file:\n",
        "    for line in file:\n",
        "\n",
        "        # This regex captures the numbers outside the brackets as separate groups and the entire bracket expression as one group\n",
        "        match = re.match(r\"(\\d+),(\\{.*?\\}),([\\d\\.]+)\", line)\n",
        "        if match:\n",
        "            # Appending the groups found by the regex as a new row in list\n",
        "            rows.append(match.groups())\n",
        "\n",
        "# Creating DataFrame from the collected rows\n",
        "vertices_dataset = pd.DataFrame(rows, columns=column_names)\n",
        "\n",
        "# Converting the 'cost' column to float\n",
        "\n",
        "#vertices_dataset['vertex'] = vertices_dataset['vertex'].astype(int)\n",
        "vertices_dataset['cost'] = vertices_dataset['cost'].astype(float)\n",
        "\n",
        "# Printing the DataFrame\n",
        "print(vertices_dataset)\n"
      ]
    },
    {
      "cell_type": "code",
      "source": [
        "# Converting 'vertex' to int, 'parent' to a set, and 'cost' to float\n",
        "vertices_dataset['vertex'] = vertices_dataset['vertex'].astype(int)\n",
        "vertices_dataset['cost'] = vertices_dataset['cost'].astype(float)\n",
        "vertices_dataset['parent'] = vertices_dataset['parent'].apply(lambda x: tuple(map(int, x.strip('{}').split(','))) if x.strip('{}') else ())\n",
        "\n",
        "# dictionary to hold the costs\n",
        "costs = {}\n",
        "\n",
        "# Iterating over the DataFrame rows to fill the dictionary\n",
        "for index, row in vertices_dataset.iterrows():\n",
        "    vertex = row['vertex']\n",
        "    parent_set = row['parent']\n",
        "    cost = row['cost']\n",
        "\n",
        "    # Adding the data to the costs dictionary\n",
        "    if vertex not in costs:\n",
        "        costs[vertex] = []\n",
        "    costs[vertex].append((parent_set, cost))\n",
        "\n",
        "# costs is a dictionary where each key is a vertex and each value is a list of tuples with parent sets and costs\n",
        "print(costs)\n",
        "all_vertices = len(costs.keys())\n",
        "print(all_vertices)"
      ],
      "metadata": {
        "colab": {
          "base_uri": "https://localhost:8080/"
        },
        "id": "NpGSsn9RQNW7",
        "outputId": "0e1ee24e-e075-444d-de9d-4c95ea8250d4"
      },
      "execution_count": 4,
      "outputs": [
        {
          "output_type": "stream",
          "name": "stdout",
          "text": [
            "{1: [((), 153.466), ((3,), 96.093), ((4,), 97.913), ((5,), 99.835)], 2: [((), 141.023), ((3,), 122.446), ((4,), 121.576), ((5,), 123.398)], 3: [((), 169.482), ((1,), 112.109), ((2,), 150.906), ((1, 2), 107.516), ((4,), 51.681), ((5,), 41.775)], 4: [((), 169.482), ((1,), 113.929), ((2,), 150.036), ((1, 2), 108.982), ((3,), 51.681), ((5,), 36.188)], 5: [((), 169.802), ((1,), 116.171), ((2,), 152.178), ((1, 2), 111.473), ((3,), 42.096), ((4,), 36.508)]}\n",
            "5\n"
          ]
        }
      ]
    },
    {
      "cell_type": "code",
      "source": [
        "def calculate_mcc(vertex, ordering, costs_dict):\n",
        "    valid_parent_sets = [p_set for p_set, cost in costs_dict[vertex] if set(p_set).issubset(set(ordering[:ordering.index(vertex)]))]\n",
        "    if not valid_parent_sets:  # If there are no valid parent sets, return infinity or a very large number\n",
        "        return float('inf')\n",
        "    return min(cost for p_set, cost in costs_dict[vertex] if p_set in valid_parent_sets)\n"
      ],
      "metadata": {
        "id": "PLV1TRhrQsCq"
      },
      "execution_count": 5,
      "outputs": []
    },
    {
      "cell_type": "code",
      "source": [
        "# helper functions to be used in Searching\n",
        "def is_complete(ordering, costs_dict):\n",
        "\n",
        "  return len(ordering) == len(costs_dict.keys())\n",
        "\n",
        "def get_available_vertices(ordering, costs_dict):\n",
        "\n",
        "  # Gets a list of vertices not in the ordering.\n",
        "  all_vertices = list(costs_dict.keys())\n",
        "  available_vertices = set(all_vertices) - set(ordering)\n",
        "  return list(available_vertices)\n",
        "\n",
        "def calculate_total_cost(ordering, costs_dict):\n",
        "\n",
        "  # Calculates the total cost of the ordering.\n",
        "  total_cost = 0\n",
        "  for vertex in ordering:\n",
        "        # Calling the mcc function for each vertex in the ordering\n",
        "        mcc_cost = calculate_mcc(vertex, ordering, costs_dict)\n",
        "        # Summing the costs\n",
        "        total_cost += mcc_cost\n",
        "  return total_cost"
      ],
      "metadata": {
        "id": "Fd8cuE7F9qAn"
      },
      "execution_count": 6,
      "outputs": []
    },
    {
      "cell_type": "code",
      "source": [
        "from queue import Queue\n",
        "\n",
        "def bfs(initial_state, costs_dict):\n",
        "  # initial_state: The initial ordering (empty list).\n",
        "  # costs_dict: the dictionary containing parent sets\n",
        "\n",
        "  # Returns: A tuple containing the minimum total cost and the optimal ordering (path).\n",
        "\n",
        "  queue = Queue()\n",
        "  queue.put(initial_state)\n",
        "  minimum_cost = float('inf')\n",
        "  optimal_ordering = None\n",
        "\n",
        "  while not queue.empty():\n",
        "    # Taking the first ordering from the queue\n",
        "    ordering = queue.get()\n",
        "\n",
        "    # If the ordering is complete, update the minimum cost and optimal ordering\n",
        "    if is_complete(ordering, costs_dict):\n",
        "      total_cost = calculate_total_cost(ordering, costs_dict)\n",
        "      if total_cost < minimum_cost:\n",
        "        minimum_cost = total_cost\n",
        "        optimal_ordering = ordering\n",
        "    else:\n",
        "      # For each vertex not in the ordering, add it in all possible positions and enqueue\n",
        "      for vertex in get_available_vertices(ordering, costs_dict):\n",
        "        for i in range(len(ordering) + 1):\n",
        "          new_ordering = ordering[:]\n",
        "          new_ordering.insert(i, vertex)\n",
        "          queue.put(new_ordering)\n",
        "\n",
        "  return minimum_cost, optimal_ordering"
      ],
      "metadata": {
        "id": "wrwL1jMhR_j_"
      },
      "execution_count": 7,
      "outputs": []
    },
    {
      "cell_type": "code",
      "source": [
        "initial_state = [] # empty ordering\n",
        "min_cost_bfs, optimal_ordering_bfs = bfs(initial_state, costs)\n",
        "print(\"Minimum cost using BFS:\", min_cost_bfs)\n",
        "print(\"Optimal ordering using BFS:\", optimal_ordering_bfs)"
      ],
      "metadata": {
        "colab": {
          "base_uri": "https://localhost:8080/"
        },
        "id": "Gfav4vyiege9",
        "outputId": "661d97bf-a3ee-4a1c-e561-07b56f032917"
      },
      "execution_count": 8,
      "outputs": [
        {
          "output_type": "stream",
          "name": "stdout",
          "text": [
            "Minimum cost using BFS: 465.43399999999997\n",
            "Optimal ordering using BFS: [4, 2, 5, 3, 1]\n"
          ]
        }
      ]
    },
    {
      "cell_type": "code",
      "source": [
        "import networkx as nx\n",
        "\n",
        "def generate_graph(ordering, costs_dict):\n",
        "\n",
        "    # Returns: A networkx.Graph object representing the ordering with edges weighted by parent set costs.\n",
        "\n",
        "    graph = nx.DiGraph()  #DiGraph to represent directed graph\n",
        "\n",
        "    # Adding vertices to the graph\n",
        "    for vertex in ordering:\n",
        "        graph.add_node(vertex)\n",
        "\n",
        "    # Adding edges with weights based on parent set costs\n",
        "    for i, vertex in enumerate(ordering):\n",
        "        # Finding the minimum cost parent set that is consistent with the ordering\n",
        "        min_cost = float('inf')\n",
        "        min_cost_parent_set = ()\n",
        "        for parent_set, cost in costs_dict[vertex]:\n",
        "            if set(parent_set).issubset(set(ordering[:i])):\n",
        "                if cost < min_cost:\n",
        "                    min_cost = cost\n",
        "                    min_cost_parent_set = parent_set\n",
        "\n",
        "        # If there's a valid parent set, add an edge for each parent in the set\n",
        "        if min_cost_parent_set:\n",
        "            for parent in min_cost_parent_set:\n",
        "                graph.add_edge(parent, vertex, weight=min_cost)\n",
        "\n",
        "    return graph"
      ],
      "metadata": {
        "id": "mv4jiIWg0NXH"
      },
      "execution_count": 9,
      "outputs": []
    },
    {
      "cell_type": "code",
      "source": [
        "# optimal_ordering: list of vertices representing the optimal ordering\n",
        "# costs: dictionary containing the parent sets and costs for each vertex.\n",
        "graph = generate_graph(optimal_ordering_bfs, costs)\n",
        "\n",
        "# Draw the graph\n",
        "nx.draw(graph, with_labels=True)"
      ],
      "metadata": {
        "colab": {
          "base_uri": "https://localhost:8080/",
          "height": 516
        },
        "id": "osebQhtc93qV",
        "outputId": "f984abed-0db9-4531-9fd4-e839a9f1b6dc"
      },
      "execution_count": 11,
      "outputs": [
        {
          "output_type": "display_data",
          "data": {
            "text/plain": [
              "<Figure size 640x480 with 1 Axes>"
            ],
            "image/png": "[encoded data removed]"
          },
          "metadata": {}
        }
      ]
    },
    {
      "cell_type": "code",
      "source": [
        "def dfs(initial_state, costs_dict):\n",
        "\n",
        "  # initial_state: The initial ordering (empty list).\n",
        "  # costs_dict: the dictionary containing parent sets\n",
        "\n",
        "  # Returns: A tuple containing the minimum total cost and the optimal ordering (path).\n",
        "\n",
        "    stack = [initial_state]  # Use a list as a stack for DFS\n",
        "    minimum_cost = float('inf')\n",
        "    optimal_ordering = None\n",
        "\n",
        "    while stack:\n",
        "        # Popping the last ordering from the stack\n",
        "        ordering = stack.pop()\n",
        "\n",
        "        # If the ordering is complete, update the minimum cost and optimal ordering\n",
        "        if is_complete(ordering, costs_dict):\n",
        "            total_cost = calculate_total_cost(ordering, costs_dict)\n",
        "            if total_cost < minimum_cost:\n",
        "                minimum_cost = total_cost\n",
        "                optimal_ordering = ordering\n",
        "        else:\n",
        "            # For each vertex not in the ordering, add it in all possible positions and stack\n",
        "            for vertex in get_available_vertices(ordering, costs_dict):\n",
        "                for i in range(len(ordering) + 1):\n",
        "                    new_ordering = ordering[:]\n",
        "                    new_ordering.insert(i, vertex)\n",
        "                    stack.append(new_ordering)\n",
        "\n",
        "    return minimum_cost, optimal_ordering"
      ],
      "metadata": {
        "id": "__XYmgz5lsb0"
      },
      "execution_count": 12,
      "outputs": []
    },
    {
      "cell_type": "code",
      "source": [
        "optimal_cost_dfs, optimal_ordering_dfs = dfs([], costs)\n",
        "print(\"Optimal Cost using DFS:\", optimal_cost_dfs)\n",
        "print(\"Optimal Ordering using DFS:\", optimal_ordering_dfs)"
      ],
      "metadata": {
        "colab": {
          "base_uri": "https://localhost:8080/"
        },
        "id": "o5c5oPhIphgV",
        "outputId": "92caf78f-dffe-4469-be47-500c7ab029fe"
      },
      "execution_count": 13,
      "outputs": [
        {
          "output_type": "stream",
          "name": "stdout",
          "text": [
            "Optimal Cost using DFS: 465.43399999999997\n",
            "Optimal Ordering using DFS: [5, 4, 3, 1, 2]\n"
          ]
        }
      ]
    },
    {
      "cell_type": "code",
      "source": [
        "graph = generate_graph(optimal_ordering_dfs, costs)\n",
        "\n",
        "# Draw the graph\n",
        "nx.draw(graph, with_labels=True)"
      ],
      "metadata": {
        "colab": {
          "base_uri": "https://localhost:8080/",
          "height": 516
        },
        "id": "awxxUoY1ptbx",
        "outputId": "7abff52b-b184-41b1-8126-15e9006e9872"
      },
      "execution_count": 14,
      "outputs": [
        {
          "output_type": "display_data",
          "data": {
            "text/plain": [
              "<Figure size 640x480 with 1 Axes>"
            ],
            "image/png": "[encoded data removed]"
          },
          "metadata": {}
        }
      ]
    },
    {
      "cell_type": "code",
      "source": [
        "import heapq  # for priority queue functionality\n",
        "\n",
        "def ucs(initial_state, costs_dict):\n",
        "\n",
        "  # initial_state: The initial ordering (empty list).\n",
        "  # costs_dict: the dictionary containing parent sets\n",
        "\n",
        "  # Returns: A tuple containing the minimum total cost and the optimal ordering (path).\n",
        "\n",
        "    # Initializing the priority queue with the initial state and initial cost of 0\n",
        "    priority_queue = [(0, initial_state)]  # (cost, ordering)\n",
        "    minimum_cost = float('inf')\n",
        "    optimal_ordering = None\n",
        "\n",
        "    while priority_queue:\n",
        "        # Popping the ordering with the lowest cost from the priority queue\n",
        "        current_cost, ordering = heapq.heappop(priority_queue)\n",
        "\n",
        "        # If the ordering is complete, update the minimum cost and optimal ordering\n",
        "        if is_complete(ordering, costs_dict):\n",
        "            if current_cost < minimum_cost:\n",
        "                minimum_cost = current_cost\n",
        "                optimal_ordering = ordering\n",
        "        else:\n",
        "            # For each vertex not in the ordering, add it in all possible positions and enqueue with updated cost\n",
        "            for vertex in get_available_vertices(ordering, costs_dict):\n",
        "                for i in range(len(ordering) + 1):\n",
        "                    new_ordering = ordering[:]\n",
        "                    new_ordering.insert(i, vertex)\n",
        "                    # Calculating the new total cost for the new ordering\n",
        "                    new_total_cost = calculate_total_cost(new_ordering, costs_dict)\n",
        "                    # Adding the new ordering and its cost to the priority queue\n",
        "                    heapq.heappush(priority_queue, (new_total_cost, new_ordering))\n",
        "\n",
        "    return minimum_cost, optimal_ordering"
      ],
      "metadata": {
        "id": "el1CaKb8p_9Y"
      },
      "execution_count": 15,
      "outputs": []
    },
    {
      "cell_type": "code",
      "source": [
        "optimal_cost_ucs, optimal_ordering_ucs = ucs([], costs)\n",
        "print(\"Optimal Cost using UCS:\", optimal_cost_ucs)\n",
        "print(\"Optimal Ordering using UCS:\", optimal_ordering_ucs)"
      ],
      "metadata": {
        "colab": {
          "base_uri": "https://localhost:8080/"
        },
        "id": "zneJHfXsrbnv",
        "outputId": "a502b09e-06b6-4a99-efc4-8437e872a977"
      },
      "execution_count": 16,
      "outputs": [
        {
          "output_type": "stream",
          "name": "stdout",
          "text": [
            "Optimal Cost using UCS: 465.43399999999997\n",
            "Optimal Ordering using UCS: [4, 2, 5, 3, 1]\n"
          ]
        }
      ]
    },
    {
      "cell_type": "code",
      "source": [
        "graph = generate_graph(optimal_ordering_ucs, costs)\n",
        "\n",
        "# Draw the graph\n",
        "nx.draw(graph, with_labels=True)"
      ],
      "metadata": {
        "colab": {
          "base_uri": "https://localhost:8080/",
          "height": 516
        },
        "id": "RllLB7GEr0IA",
        "outputId": "ca8da706-d96e-4034-d759-c3cbed292907"
      },
      "execution_count": 17,
      "outputs": [
        {
          "output_type": "display_data",
          "data": {
            "text/plain": [
              "<Figure size 640x480 with 1 Axes>"
            ],
            "image/png": "[encoded data removed]"
          },
          "metadata": {}
        }
      ]
    }
  ]
}